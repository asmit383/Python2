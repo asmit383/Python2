{
 "cells": [
  {
   "cell_type": "code",
   "execution_count": 3,
   "metadata": {},
   "outputs": [
    {
     "name": "stdout",
     "output_type": "stream",
     "text": [
      "       year industry_code_ANZSIC               industry_name_ANZSIC  \\\n",
      "0      2011                    A  Agriculture, Forestry and Fishing   \n",
      "1      2011                    A  Agriculture, Forestry and Fishing   \n",
      "2      2011                    A  Agriculture, Forestry and Fishing   \n",
      "3      2011                    A  Agriculture, Forestry and Fishing   \n",
      "4      2011                    A  Agriculture, Forestry and Fishing   \n",
      "...     ...                  ...                                ...   \n",
      "20119  2023                  all                     All Industries   \n",
      "20120  2023                  all                     All Industries   \n",
      "20121  2023                  all                     All Industries   \n",
      "20122  2023                  all                     All Industries   \n",
      "20123  2023                  all                     All Industries   \n",
      "\n",
      "        rme_size_grp                                         variable  \\\n",
      "0                a_0                                    Activity unit   \n",
      "1                a_0                           Rolling mean employees   \n",
      "2                a_0                          Salaries and wages paid   \n",
      "3                a_0  Sales, government funding, grants and subsidies   \n",
      "4                a_0                                     Total income   \n",
      "...              ...                                              ...   \n",
      "20119  j_Grand_Total                                     Total income   \n",
      "20120  j_Grand_Total                                Total expenditure   \n",
      "20121  j_Grand_Total                      Operating profit before tax   \n",
      "20122  j_Grand_Total                                     Total assets   \n",
      "20123  j_Grand_Total                            Fixed tangible assets   \n",
      "\n",
      "         value               unit  \n",
      "0        46134              COUNT  \n",
      "1            0              COUNT  \n",
      "2          279  DOLLARS(millions)  \n",
      "3         8187  DOLLARS(millions)  \n",
      "4         8866  DOLLARS(millions)  \n",
      "...        ...                ...  \n",
      "20119   930995  DOLLARS(millions)  \n",
      "20120   832964  DOLLARS(millions)  \n",
      "20121   103616  DOLLARS(millions)  \n",
      "20122  2831894  DOLLARS(millions)  \n",
      "20123   681890  DOLLARS(millions)  \n",
      "\n",
      "[20124 rows x 7 columns]\n"
     ]
    }
   ],
   "source": [
    "import pandas as pd\n",
    "doc=pd.read_csv(\"/Users/asmitroy/Downloads/annual-enterprise-survey-2023-financial-year-provisional-size-bands.csv\")\n",
    "print(doc)\n",
    "\n",
    "\n",
    "\n"
   ]
  }
 ],
 "metadata": {
  "kernelspec": {
   "display_name": ".venv",
   "language": "python",
   "name": "python3"
  },
  "language_info": {
   "codemirror_mode": {
    "name": "ipython",
    "version": 3
   },
   "file_extension": ".py",
   "mimetype": "text/x-python",
   "name": "python",
   "nbconvert_exporter": "python",
   "pygments_lexer": "ipython3",
   "version": "3.12.5"
  }
 },
 "nbformat": 4,
 "nbformat_minor": 2
}
