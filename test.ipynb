{
 "cells": [
  {
   "cell_type": "code",
   "execution_count": 1,
   "metadata": {},
   "outputs": [
    {
     "name": "stdout",
     "output_type": "stream",
     "text": [
      "Total qty for East region: 520\n",
      "Total qty for south region: 180\n",
      "Total qty for north region: 110\n"
     ]
    }
   ],
   "source": [
    "from pymongo import MongoClient\n",
    "client = MongoClient(\"mongodb://127.0.0.1:27017/?directConnection=true&serverSelectionTimeoutMS=2000&appName=mongosh+2.4.2\")\n",
    "db = client[\"aiml\"]\n",
    "collection = db[\"test\"]\n",
    "\n",
    "region = [\n",
    "    {\"$match\": {\"region\": \"east\"}},  \n",
    "    {\"$group\": {\"_id\": None, \"total_qty\": {\"$sum\": \"$qty\"}}}  \n",
    "]\n",
    "result = list(collection.aggregate(region))    \n",
    "total_qty = result[0][\"total_qty\"] if result else 0\n",
    "print(\"Total qty for East region:\", total_qty)\n",
    "\n",
    "region1 = [\n",
    "    {\"$match\": {\"region\": \"south\"}},  \n",
    "    {\"$group\": {\"_id\": None, \"total_qty1\": {\"$sum\": \"$qty\"}}}  \n",
    "]\n",
    "result1 = list(collection.aggregate(region1))\n",
    "total_qty1 = result1[0][\"total_qty1\"] if result1 else 0\n",
    "print(\"Total qty for south region:\", total_qty1)    \n",
    "\n",
    "\n",
    "region2 = [\n",
    "    {\"$match\": {\"region\": \"north\"}},  \n",
    "    {\"$group\": {\"_id\": None, \"total_qty2\": {\"$sum\": \"$qty\"}}}  \n",
    "]\n",
    "result2 = list(collection.aggregate(region2))\n",
    "total_qty2 = result2[0][\"total_qty2\"] if result2 else 0\n",
    "print(\"Total qty for north region:\", total_qty2)   \n",
    "client.close() \n",
    "    "
   ]
  },
  {
   "cell_type": "code",
   "execution_count": 2,
   "metadata": {},
   "outputs": [
    {
     "data": {
      "image/png": "[encoded data removed]",
      "text/plain": [
       "<Figure size 640x480 with 1 Axes>"
      ]
     },
     "metadata": {},
     "output_type": "display_data"
    }
   ],
   "source": [
    "import matplotlib.pyplot as plt\n",
    "import numpy as np\n",
    "x = np.array(['east','south','north'])\n",
    "y=np.array([total_qty,total_qty1,total_qty2])\n",
    "plt.bar(x,y)\n",
    "plt.show()\n",
    "    "
   ]
  }
 ],
 "metadata": {
  "kernelspec": {
   "display_name": ".venv",
   "language": "python",
   "name": "python3"
  },
  "language_info": {
   "codemirror_mode": {
    "name": "ipython",
    "version": 3
   },
   "file_extension": ".py",
   "mimetype": "text/x-python",
   "name": "python",
   "nbconvert_exporter": "python",
   "pygments_lexer": "ipython3",
   "version": "3.12.5"
  }
 },
 "nbformat": 4,
 "nbformat_minor": 2
}
